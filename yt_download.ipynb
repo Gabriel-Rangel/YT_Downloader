{
  "nbformat": 4,
  "nbformat_minor": 0,
  "metadata": {
    "colab": {
      "name": "yt_download.ipynb",
      "provenance": [],
      "collapsed_sections": [],
      "authorship_tag": "ABX9TyOLMl2o5CwFgYDKV4RtBd8r",
      "include_colab_link": true
    },
    "kernelspec": {
      "name": "python3",
      "display_name": "Python 3"
    },
    "language_info": {
      "name": "python"
    }
  },
  "cells": [
    {
      "cell_type": "markdown",
      "metadata": {
        "id": "view-in-github",
        "colab_type": "text"
      },
      "source": [
        "<a href=\"https://colab.research.google.com/github/Gabriel-Rangel/YT_Downloader/blob/main/yt_download.ipynb\" target=\"_parent\"><img src=\"https://colab.research.google.com/assets/colab-badge.svg\" alt=\"Open In Colab\"/></a>"
      ]
    },
    {
      "cell_type": "code",
      "metadata": {
        "colab": {
          "base_uri": "https://localhost:8080/"
        },
        "id": "IpGfg-ECGkXR",
        "outputId": "6a699cdd-f1e5-4519-fcb3-15103c1affd0"
      },
      "source": [
        "!pip install pytube"
      ],
      "execution_count": null,
      "outputs": [
        {
          "output_type": "stream",
          "text": [
            "Requirement already satisfied: pytube in /usr/local/lib/python3.7/dist-packages (10.8.4)\n"
          ],
          "name": "stdout"
        }
      ]
    },
    {
      "cell_type": "code",
      "metadata": {
        "id": "rrEeLxwLG7He"
      },
      "source": [
        "import pytube\n",
        "import moviepy.editor as mp\n",
        "import re"
      ],
      "execution_count": null,
      "outputs": []
    },
    {
      "cell_type": "code",
      "metadata": {
        "id": "lIMyHTehG-IZ"
      },
      "source": [
        "url = \"https://www.youtube.com/watch?v=3elkkadPoJY&t=2s\""
      ],
      "execution_count": null,
      "outputs": []
    },
    {
      "cell_type": "code",
      "metadata": {
        "colab": {
          "base_uri": "https://localhost:8080/",
          "height": 35
        },
        "id": "fGR7j3hhHIN_",
        "outputId": "00a37a58-a9b0-492f-9f03-e95569c8b9b6"
      },
      "source": [
        "youtube = pytube.YouTube(url)\n",
        "video = youtube.streams.filter(only_audio=True).first()\n",
        "video = youtube.streams.get_highest_resolution()\n",
        "video.download(r'C:\\Users\\gabriel.souza.rangel\\Desktop')"
      ],
      "execution_count": null,
      "outputs": [
        {
          "output_type": "execute_result",
          "data": {
            "application/vnd.google.colaboratory.intrinsic+json": {
              "type": "string"
            },
            "text/plain": [
              "'/content/C:\\\\Users\\\\gabriel.souza.rangel\\\\Desktop/Aula 10 - Algoritmo Genetico.mp4'"
            ]
          },
          "metadata": {
            "tags": []
          },
          "execution_count": 11
        }
      ]
    }
  ]
}